{
 "cells": [
  {
   "cell_type": "code",
   "execution_count": 1,
   "metadata": {
    "execution": {
     "iopub.execute_input": "2024-11-19T19:46:58.075877Z",
     "iopub.status.busy": "2024-11-19T19:46:58.075706Z",
     "iopub.status.idle": "2024-11-19T19:46:58.080299Z",
     "shell.execute_reply": "2024-11-19T19:46:58.079917Z"
    },
    "id": "jHlQ_4yC6VTr"
   },
   "outputs": [
    {
     "name": "stdout",
     "output_type": "stream",
     "text": [
      "Hello World from Jupyter Notebook\n"
     ]
    }
   ],
   "source": [
    "print(\"Hello World from Jupyter Notebook\")"
   ]
  }
 ],
 "metadata": {
  "colab": {
   "provenance": []
  },
  "kernelspec": {
   "display_name": "Python 3",
   "name": "python3"
  },
  "language_info": {
   "codemirror_mode": {
    "name": "ipython",
    "version": 3
   },
   "file_extension": ".py",
   "mimetype": "text/x-python",
   "name": "python",
   "nbconvert_exporter": "python",
   "pygments_lexer": "ipython3",
   "version": "3.13.0"
  }
 },
 "nbformat": 4,
 "nbformat_minor": 0
}
